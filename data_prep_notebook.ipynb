{
  "cells": [
    {
      "cell_type": "markdown",
      "metadata": {
        "id": "view-in-github",
        "colab_type": "text"
      },
      "source": [
        "<a href=\"https://colab.research.google.com/github/alihussainia/Love-Letter-Generator/blob/main/data_prep_notebook.ipynb\" target=\"_parent\"><img src=\"https://colab.research.google.com/assets/colab-badge.svg\" alt=\"Open In Colab\"/></a>"
      ]
    },
    {
      "cell_type": "markdown",
      "source": [
        "# Installations"
      ],
      "metadata": {
        "id": "Ldhqizc0ii_u"
      }
    },
    {
      "cell_type": "code",
      "source": [
        "!pip install jsonlines"
      ],
      "metadata": {
        "id": "gcnNruWDNCD3"
      },
      "execution_count": null,
      "outputs": []
    },
    {
      "cell_type": "markdown",
      "source": [
        "# Imports"
      ],
      "metadata": {
        "id": "LHVmY_huigwq"
      }
    },
    {
      "cell_type": "code",
      "source": [
        "import pandas as pd\n",
        "import jsonlines\n",
        "import json"
      ],
      "metadata": {
        "id": "HKLj89OCl00k"
      },
      "execution_count": null,
      "outputs": []
    },
    {
      "cell_type": "markdown",
      "source": [
        "# Initial Dataset"
      ],
      "metadata": {
        "id": "yNdCPx7Uieh_"
      }
    },
    {
      "cell_type": "code",
      "source": [
        "!wget \"https://raw.githubusercontent.com/alihussainia/Love-Letter-Generator/main/datasets/train/raw/wife_dataset.txt\""
      ],
      "metadata": {
        "id": "eWY55-HOwCrD"
      },
      "execution_count": null,
      "outputs": []
    },
    {
      "cell_type": "code",
      "source": [
        "# dataset_wife = [\"\"\"This very moment that I decided to give words to my feelings, my heart is overflowing with the joy and love you make me feel with your presence. You are such an angel in my life, and I count myself as lucky and blessed to have you as my wife.Since the time you came into my life, I have grown to love you so much that I find myself anxious in your absence and constantly looking forward to seeing you each day.\n",
        "\n",
        "# I am in awe of your beauty, intelligence, and confidence. Your love and kindness inspire me to become a better person each day. Your presence has such a positive and calming effect on my heart and soul that I cannot express it in words.\n",
        "\n",
        "# Today, I want you to know that you are the most important person in my life, and you mean the world to me. I may not show my love to you every day, but always remember that my feelings towards you will never change. I love you so much.\n",
        "\n",
        "# Yours only,\"\"\",\n",
        "\n",
        "# \"\"\"I started believing in love only after I met you. I never thought in my life that I could fall head over heels in love with anyone until I met you. But, you proved me completely wrong.\n",
        "\n",
        "# I cannot forget the day we met. It was a day like any other, and we met like two emotionally mature people who hit it off instantly and spoke so much about life, love, and emotions.\n",
        "\n",
        "# Your loving nature, maturity, and emotional stability are just a few of the qualities that made me fall for you. Your presence had such a strong impact on me that it melted my heart.\n",
        "\n",
        "# I will always remain thankful to you for not rushing things and patiently waiting until I could figure out my feelings for you. I promise to love you till eternity and will do everything to keep you happy.\n",
        "\n",
        "# Your loving hubby,\"\"\",\n",
        "\n",
        "# \"\"\"I miss you so much, and your absence is making me revisit so many of our memories together. Do you remember the first time we met? And how nervous and excited I was when I wanted to ask you to marry me? How I hid that ring in my pocket? How I could hardly contain the excitement and wait to see your delight when I asked you to be my wife?\n",
        "\n",
        "# You were and still are the most beautiful girl in the whole wide world. I feel blessed and cannot thank you enough for accepting me without trying to change me.\n",
        "\n",
        "# You are truly a gift from God, and I am honored to be able to share my life with you. My life is so much happier because you are here with me.\n",
        "\n",
        "# With all my love,\"\"\",\n",
        "\n",
        "# \"\"\"Since you always complain that I hardly express my love to you, today I take this opportunity to tell you how I feel about you.\n",
        "\n",
        "# On your birthday, I thought of giving you a beautiful gift by telling you my true feelings about you.\n",
        "\n",
        "# You are not just my wife, but the light of my life too. You make my life beautiful in every possible way. I love you because of your pure heart, gorgeous personality and, above all, for the beautiful person you are.\n",
        "\n",
        "# The support you have given me keeps me going strong without ever looking back. You have been a solid pillar of strength to me since the day we got married. Being in a relationship with you for ten years now is like the most wonderful ten-year-long date.\n",
        "\n",
        "# Today, let me tell you how much I love you. I cannot imagine my life without you in it. You have been my biggest support system in the ups and downs of life, and I will always remain grateful for that. Your strength, faith, and love for me make me the strong man I am. So thank you for everything, my darling wife! I love you the most!\n",
        "\n",
        "# Your loving husband,\"\"\",\n",
        "\n",
        "# \"\"\"Over the years that we have been together, my love for you has multiplied many-fold. You are not just my life partner but also my best pal, my muse, and my everything. Yours is the only name that comes to my head when I am happy, and it is you with whom I want to share any good news and all my joy, excitement, and worries.\n",
        "\n",
        "# The thought of seeing you cry makes me weak. Believe me – it kills me whenever I see you sad or cry. I always want to see you happy and would do anything and everything for it. Today, I also want to apologize to you for every time I made you feel bad and assure you that I will try to never repeat the same mistakes again.\n",
        "\n",
        "# Whenever we fight, I feel guilty and want to embrace you and wipe all your tears, but sometimes my ego and pride take over. However, I want you to know that I do care for your feelings with all my heart. It is just that sometimes I do not show it to you. Please know that deep down, I will always love you and protect you till eternity.\n",
        "\n",
        "# Yours forever,\"\"\",\n",
        "\n",
        "# \"\"\"Today, I want to tell you what a beautiful woman you are. You are beautiful in not only your outward appearance but also your kind heart and wonderful demeanor. I am a happy man to have you as my wife, and sometimes I wonder what good I have done to deserve you in my life.\n",
        "\n",
        "# I hold you in the highest regard and cherish our marriage like no one else. With you, our marriage has been a beautiful journey with its twists and turns.\n",
        "# I am thankful for your unconditional love and everything else that you do for me. I am not lying when I say that you are an angel sent from above, and I am truly and deeply in love with you.\n",
        "\n",
        "# Your loving husband,\"\"\",\n",
        "\n",
        "# \"\"\"While I know that I am neither a perfect man nor the most handsome one, you have never made me feel any less than Prince Charming, the man of your dreams. You have always loved, trusted, and supported me with all your heart. This has boosted my confidence and made me strive to try and be a good husband for you.\n",
        "\n",
        "# I am truly blessed to have a supporting and loyal woman like you as my wife, and I feel so fortunate when I see my feelings reciprocated by you. Your maturity and sense of contentment, even when I do not measure up to your expectations, fill my heart with so much love and pride.\n",
        "\n",
        "# I feel joyous whenever I find happiness in your eyes just to see me. My dream is to spend the rest of my life with you, loving, fighting, and making up.\n",
        "\n",
        "# Your darling husband,\"\"\",\n",
        "\n",
        "# \"\"\"For a long time, I wanted to write you a love letter and could not find a better time than now. You may find it childish, but if it brings a smile to your face, then why not? One way or the other, I wanted to give words to my feelings to tell you how much you mean to me.\n",
        "\n",
        "# While we are in different cities right now, I can still picture you and your pretty face. I see your beautiful hair and the way it falls on your shoulders, the way you look at me lovingly, the way you wait for my calls, the way you smile, and how you look right before you laugh your heart out. Believe me when I say that I want to be next to you right now, hold you tight and give you a big hug.\n",
        "\n",
        "# I can feel your presence dearly, even though you are far away from me right now. I love you with all my heart, my darling.\n",
        "\n",
        "# Love,\"\"\",\n",
        "\n",
        "# \"\"\"Do you remember the time we met? It was such a magical moment when you professed your love for me, and I told you that I felt the same.\n",
        "\n",
        "# I can never forget when you said ‘yes’ to my proposal, and we decided to spend the rest of our lives together. These are the moments I will forever cherish.\n",
        "\n",
        "# You are the most stunning woman in the world, and for that, I consider myself the most fortunate man ever. Today, I also want to promise you that I will never let you down and always love you dearly. Irrespective of the circumstances, I promise to always be by your side and love you till eternity.\n",
        "\n",
        "# Your ever-loving husband,\"\"\",\n",
        "\n",
        "# \"\"\"We have seen so many ups and downs in our lives, and I cannot tell you how lucky I feel to have you by my side, no matter what. Thank you, my love!\n",
        "\n",
        "# I also want to thank you for being such a kind and loving mom to our kids and always making me want to become a better person.\n",
        "\n",
        "# Sometimes, there are no words to express my love and gratitude, but I want you to know that I cannot imagine my life without you and your companionship.\n",
        "\n",
        "# I feel very blessed to call you mine forever. Your love and support make me feel so happy. I love you dearly.\n",
        "\n",
        "# Your husband,\"\"\"]"
      ],
      "metadata": {
        "id": "BKjFrDkQ5OPJ"
      },
      "execution_count": null,
      "outputs": []
    },
    {
      "cell_type": "code",
      "source": [
        "dataset_wife = [\"\"\"This very moment that I decided to give words to my feelings, my heart is overflowing with the joy and love you make me feel with your presence. You are such an angel in my life, and I count myself as lucky and blessed to have you as my wife.Since the time you came into my life, I have grown to love you so much that I find myself anxious in your absence and constantly looking forward to seeing you each day.\n",
        "\n",
        "I am in awe of your beauty, intelligence, and confidence. Your love and kindness inspire me to become a better person each day. Your presence has such a positive and calming effect on my heart and soul that I cannot express it in words.\n",
        "\n",
        "Today, I want you to know that you are the most important person in my life, and you mean the world to me. I may not show my love to you every day, but always remember that my feelings towards you will never change. I love you so much.\n",
        "\n",
        "Yours only,\"\"\",\n",
        "\n",
        "\"\"\"I started believing in love only after I met you. I never thought in my life that I could fall head over heels in love with anyone until I met you. But, you proved me completely wrong.\n",
        "\n",
        "I cannot forget the day we met. It was a day like any other, and we met like two emotionally mature people who hit it off instantly and spoke so much about life, love, and emotions.\n",
        "\n",
        "Your loving nature, maturity, and emotional stability are just a few of the qualities that made me fall for you. Your presence had such a strong impact on me that it melted my heart.\n",
        "\n",
        "I will always remain thankful to you for not rushing things and patiently waiting until I could figure out my feelings for you. I promise to love you till eternity and will do everything to keep you happy.\n",
        "\n",
        "Your loving hubby,\"\"\",\n",
        "\n",
        "\"\"\"I miss you so much, and your absence is making me revisit so many of our memories together. Do you remember the first time we met? And how nervous and excited I was when I wanted to ask you to marry me? How I hid that ring in my pocket? How I could hardly contain the excitement and wait to see your delight when I asked you to be my wife?\n",
        "\n",
        "You were and still are the most beautiful girl in the whole wide world. I feel blessed and cannot thank you enough for accepting me without trying to change me.\n",
        "\n",
        "You are truly a gift from God, and I am honored to be able to share my life with you. My life is so much happier because you are here with me.\n",
        "\n",
        "With all my love,\"\"\",\n",
        "\n",
        "\"\"\"Since you always complain that I hardly express my love to you, today I take this opportunity to tell you how I feel about you.\n",
        "\n",
        "On your birthday, I thought of giving you a beautiful gift by telling you my true feelings about you.\n",
        "\n",
        "You are not just my wife, but the light of my life too. You make my life beautiful in every possible way. I love you because of your pure heart, gorgeous personality and, above all, for the beautiful person you are.\n",
        "\n",
        "The support you have given me keeps me going strong without ever looking back. You have been a solid pillar of strength to me since the day we got married. Being in a relationship with you for ten years now is like the most wonderful ten-year-long date.\n",
        "\n",
        "Today, let me tell you how much I love you. I cannot imagine my life without you in it. You have been my biggest support system in the ups and downs of life, and I will always remain grateful for that. Your strength, faith, and love for me make me the strong man I am. So thank you for everything, my darling wife! I love you the most!\n",
        "\n",
        "Your loving husband,\"\"\",\n",
        "\n",
        "\"\"\"Over the years that we have been together, my love for you has multiplied many-fold. You are not just my life partner but also my best pal, my muse, and my everything. Yours is the only name that comes to my head when I am happy, and it is you with whom I want to share any good news and all my joy, excitement, and worries.\n",
        "\n",
        "The thought of seeing you cry makes me weak. Believe me – it kills me whenever I see you sad or cry. I always want to see you happy and would do anything and everything for it. Today, I also want to apologize to you for every time I made you feel bad and assure you that I will try to never repeat the same mistakes again.\n",
        "\n",
        "Whenever we fight, I feel guilty and want to embrace you and wipe all your tears, but sometimes my ego and pride take over. However, I want you to know that I do care for your feelings with all my heart. It is just that sometimes I do not show it to you. Please know that deep down, I will always love you and protect you till eternity.\n",
        "\n",
        "Yours forever,\"\"\",\n",
        "\n",
        "\"\"\"Today, I want to tell you what a beautiful woman you are. You are beautiful in not only your outward appearance but also your kind heart and wonderful demeanor. I am a happy man to have you as my wife, and sometimes I wonder what good I have done to deserve you in my life.\n",
        "\n",
        "I hold you in the highest regard and cherish our marriage like no one else. With you, our marriage has been a beautiful journey with its twists and turns.\n",
        "I am thankful for your unconditional love and everything else that you do for me. I am not lying when I say that you are an angel sent from above, and I am truly and deeply in love with you.\n",
        "\n",
        "Your loving husband,\"\"\",\n",
        "\n",
        "\"\"\"While I know that I am neither a perfect man nor the most handsome one, you have never made me feel any less than Prince Charming, the man of your dreams. You have always loved, trusted, and supported me with all your heart. This has boosted my confidence and made me strive to try and be a good husband for you.\n",
        "\n",
        "I am truly blessed to have a supporting and loyal woman like you as my wife, and I feel so fortunate when I see my feelings reciprocated by you. Your maturity and sense of contentment, even when I do not measure up to your expectations, fill my heart with so much love and pride.\n",
        "\n",
        "I feel joyous whenever I find happiness in your eyes just to see me. My dream is to spend the rest of my life with you, loving, fighting, and making up.\n",
        "\n",
        "Your darling husband,\"\"\",\n",
        "\n",
        "\"\"\"For a long time, I wanted to write you a love letter and could not find a better time than now. You may find it childish, but if it brings a smile to your face, then why not? One way or the other, I wanted to give words to my feelings to tell you how much you mean to me.\n",
        "\n",
        "While we are in different cities right now, I can still picture you and your pretty face. I see your beautiful hair and the way it falls on your shoulders, the way you look at me lovingly, the way you wait for my calls, the way you smile, and how you look right before you laugh your heart out. Believe me when I say that I want to be next to you right now, hold you tight and give you a big hug.\n",
        "\n",
        "I can feel your presence dearly, even though you are far away from me right now. I love you with all my heart, my darling.\n",
        "\n",
        "Love,\"\"\",\n",
        "\n",
        "\"\"\"Do you remember the time we met? It was such a magical moment when you professed your love for me, and I told you that I felt the same.\n",
        "\n",
        "I can never forget when you said ‘yes’ to my proposal, and we decided to spend the rest of our lives together. These are the moments I will forever cherish.\n",
        "\n",
        "You are the most stunning woman in the world, and for that, I consider myself the most fortunate man ever. Today, I also want to promise you that I will never let you down and always love you dearly. Irrespective of the circumstances, I promise to always be by your side and love you till eternity.\n",
        "\n",
        "Your ever-loving husband,\"\"\",\n",
        "\n",
        "\"\"\"We have seen so many ups and downs in our lives, and I cannot tell you how lucky I feel to have you by my side, no matter what. Thank you, my love!\n",
        "\n",
        "I also want to thank you for being such a kind and loving mom to our kids and always making me want to become a better person.\n",
        "\n",
        "Sometimes, there are no words to express my love and gratitude, but I want you to know that I cannot imagine my life without you and your companionship.\n",
        "\n",
        "I feel very blessed to call you mine forever. Your love and support make me feel so happy. I love you dearly.\n",
        "\n",
        "Your husband,\"\"\"]\n"
      ],
      "metadata": {
        "id": "jXMyzRAstJa2"
      },
      "execution_count": null,
      "outputs": []
    },
    {
      "cell_type": "code",
      "source": [
        "len(dataset_wife)"
      ],
      "metadata": {
        "id": "pyVjQSPp1sQg"
      },
      "execution_count": null,
      "outputs": []
    },
    {
      "cell_type": "markdown",
      "source": [
        "# WIP"
      ],
      "metadata": {
        "id": "xp1C3uFeioa7"
      }
    },
    {
      "cell_type": "code",
      "source": [
        "letter = \"\"\"I sometimes cannot believe that we have been together for so many years, and it all still feels like yesterday. With you by my side, time seems to go by so fast.\n",
        "I will always cherish all the beautiful memories that we have made together. Life with you has been nothing short of a blessing!\n",
        "\n",
        "I know that our love has become the envy of all, and I would never change anything about the bond we share. Every day, I wake up with so many more reasons to fall in love with you all over again, and I never want to stop that feeling.\n",
        "\n",
        "Loving you has become a necessity for me, and I will always look for opportunities to sweep you off your feet. \n",
        "I adore you so much, my sweetheart,\n",
        "\"\"\""
      ],
      "metadata": {
        "id": "GWZNLJgfUGyw"
      },
      "execution_count": null,
      "outputs": []
    },
    {
      "cell_type": "code",
      "source": [
        "dataset_wife.append(letter)"
      ],
      "metadata": {
        "id": "ypPHE-faUaLy"
      },
      "execution_count": null,
      "outputs": []
    },
    {
      "cell_type": "code",
      "source": [
        "len(dataset_wife)"
      ],
      "metadata": {
        "id": "b5caOEGV4c1-"
      },
      "execution_count": null,
      "outputs": []
    },
    {
      "cell_type": "code",
      "source": [
        "dataset_wife"
      ],
      "metadata": {
        "id": "Xre2x_rt9pw4"
      },
      "execution_count": null,
      "outputs": []
    },
    {
      "cell_type": "markdown",
      "source": [
        "# Preprocess"
      ],
      "metadata": {
        "id": "aYsU9huy4yNt"
      }
    },
    {
      "cell_type": "code",
      "source": [
        "outer_list = []\n",
        "for i in range(len(dataset_wife)): # change dataset name\n",
        "    inner_dict = {}\n",
        "    inner_dict[\"input\"] =  \"wife\" # change variable name\n",
        "    inner_dict[\"output\"] =  dataset_wife[i] # change dataset name\n",
        "    outer_list.append(inner_dict)"
      ],
      "metadata": {
        "id": "W_tsCH7YDLxW"
      },
      "execution_count": null,
      "outputs": []
    },
    {
      "cell_type": "code",
      "source": [
        "with open('wife_dataset.jsonl', 'w') as jsonl_output:\n",
        "    for entry in outer_list:\n",
        "        json.dump(entry, jsonl_output)\n",
        "        jsonl_output.write('\\n')"
      ],
      "metadata": {
        "id": "Z68XANMFDB-U"
      },
      "execution_count": null,
      "outputs": []
    },
    {
      "cell_type": "code",
      "source": [
        "jsonl_file = open(\"wife_dataset.jsonl\", \"r\")\n",
        "print(jsonl_file.read())"
      ],
      "metadata": {
        "id": "ritRj80RDaTh"
      },
      "execution_count": null,
      "outputs": []
    },
    {
      "cell_type": "code",
      "source": [],
      "metadata": {
        "id": "oOzhAeY0De9L"
      },
      "execution_count": null,
      "outputs": []
    }
  ],
  "metadata": {
    "colab": {
      "provenance": [],
      "collapsed_sections": [
        "yNdCPx7Uieh_"
      ],
      "include_colab_link": true
    },
    "kernelspec": {
      "display_name": "Python 3",
      "language": "python",
      "name": "python3"
    },
    "language_info": {
      "codemirror_mode": {
        "name": "ipython",
        "version": 3
      },
      "file_extension": ".py",
      "mimetype": "text/x-python",
      "name": "python",
      "nbconvert_exporter": "python",
      "pygments_lexer": "ipython3",
      "version": "3.7.6"
    },
    "gpuClass": "standard"
  },
  "nbformat": 4,
  "nbformat_minor": 0
}