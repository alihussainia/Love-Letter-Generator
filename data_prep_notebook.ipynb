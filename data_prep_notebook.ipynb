{
  "cells": [
    {
      "cell_type": "markdown",
      "metadata": {
        "id": "view-in-github",
        "colab_type": "text"
      },
      "source": [
        "<a href=\"https://colab.research.google.com/github/alihussainia/Love-Letter-Generator/blob/main/data_prep_notebook.ipynb\" target=\"_parent\"><img src=\"https://colab.research.google.com/assets/colab-badge.svg\" alt=\"Open In Colab\"/></a>"
      ]
    },
    {
      "cell_type": "markdown",
      "source": [
        "# Installations"
      ],
      "metadata": {
        "id": "Ldhqizc0ii_u"
      }
    },
    {
      "cell_type": "code",
      "source": [
        "%pip install beautifulsoup4 jsonlines"
      ],
      "metadata": {
        "id": "gcnNruWDNCD3"
      },
      "execution_count": null,
      "outputs": []
    },
    {
      "cell_type": "markdown",
      "source": [
        "# Imports"
      ],
      "metadata": {
        "id": "LHVmY_huigwq"
      }
    },
    {
      "cell_type": "code",
      "source": [
        "import pandas as pd\n",
        "import jsonlines\n",
        "import json"
      ],
      "metadata": {
        "id": "HKLj89OCl00k"
      },
      "execution_count": null,
      "outputs": []
    },
    {
      "cell_type": "markdown",
      "source": [
        "# Wife"
      ],
      "metadata": {
        "id": "9qC10pGPLpf5"
      }
    },
    {
      "cell_type": "markdown",
      "source": [
        "## Initial Dataset"
      ],
      "metadata": {
        "id": "yNdCPx7Uieh_"
      }
    },
    {
      "cell_type": "code",
      "source": [
        "!wget \"https://raw.githubusercontent.com/alihussainia/Love-Letter-Generator/main/datasets/train/raw/wife_dataset.py\""
      ],
      "metadata": {
        "id": "eWY55-HOwCrD"
      },
      "execution_count": null,
      "outputs": []
    },
    {
      "cell_type": "code",
      "source": [
        "from wife_dataset import dataset"
      ],
      "metadata": {
        "id": "gPngNRUAzQ87"
      },
      "execution_count": null,
      "outputs": []
    },
    {
      "cell_type": "code",
      "source": [
        "len(dataset)"
      ],
      "metadata": {
        "id": "JatTqmS0gWY3"
      },
      "execution_count": null,
      "outputs": []
    },
    {
      "cell_type": "markdown",
      "source": [
        "## WIP"
      ],
      "metadata": {
        "id": "xp1C3uFeioa7"
      }
    },
    {
      "cell_type": "code",
      "source": [
        "letter = \"\"\"I love you so much, not just because you are my wife, but also because you are my best friend. You have and will always be the most special person in my life.\n",
        "\n",
        "Whatever the circumstances, good or bad, you are the first one who I remember. I can never thank you enough for tolerating my quirks, mood swings, rants, and so much more.\n",
        "\n",
        "You are the only one to whom I can tell even my darkest secrets and just be myself. Whenever I feel sad, I know you are there to hold me and cheer me up. Love you forever, my baby.\n",
        "\n",
        "Your loving husband,\n",
        "\"\"\""
      ],
      "metadata": {
        "id": "GWZNLJgfUGyw"
      },
      "execution_count": null,
      "outputs": []
    },
    {
      "cell_type": "code",
      "source": [
        "dataset.append(letter)"
      ],
      "metadata": {
        "id": "_px-ki-RzW9G"
      },
      "execution_count": null,
      "outputs": []
    },
    {
      "cell_type": "code",
      "source": [
        "# Updating the wife_dataset file with new wife love letter sample(s)\n",
        "map_dict = {'<dataset>':dataset}\n",
        "txt = \"dataset = <dataset>\"\n",
        "with open('wife_dataset.py', 'w') as f:\n",
        "    for k,v in map_dict.items():\n",
        "      txt = txt.replace(k,str(v))\n",
        "    f.write(txt)"
      ],
      "metadata": {
        "id": "eGWLopbF9U3g"
      },
      "execution_count": null,
      "outputs": []
    },
    {
      "cell_type": "markdown",
      "source": [
        "## Final"
      ],
      "metadata": {
        "id": "2HGtykx7Lush"
      }
    },
    {
      "cell_type": "code",
      "source": [
        "outer_list = []\n",
        "for i in range(len(dataset)): # change dataset name\n",
        "    inner_dict = {}\n",
        "    inner_dict[\"input\"] =  \"wife\" # change variable name\n",
        "    inner_dict[\"output\"] =  dataset[i] # change dataset name\n",
        "    outer_list.append(inner_dict)"
      ],
      "metadata": {
        "id": "W_tsCH7YDLxW"
      },
      "execution_count": null,
      "outputs": []
    },
    {
      "cell_type": "code",
      "source": [
        "with open('wife_dataset.jsonl', 'w') as jsonl_output:\n",
        "    for entry in outer_list:\n",
        "        json.dump(entry, jsonl_output)\n",
        "        jsonl_output.write('\\n')"
      ],
      "metadata": {
        "id": "Z68XANMFDB-U"
      },
      "execution_count": null,
      "outputs": []
    },
    {
      "cell_type": "code",
      "source": [
        "jsonl_file = open(\"wife_dataset.jsonl\", \"r\")\n",
        "print(jsonl_file.read())"
      ],
      "metadata": {
        "id": "ritRj80RDaTh"
      },
      "execution_count": null,
      "outputs": []
    },
    {
      "cell_type": "markdown",
      "source": [
        "Prompt Sample:\n",
        "\n",
        "Input: wife\n",
        "\n",
        "Output: I love you so much, not just because you are my wife, but also because you are my best friend. You have and will always be the most special person in my life.\n",
        "\n",
        "Whatever the circumstances, good or bad, you are the first one who I remember. I can never thank you enough for tolerating my quirks, mood swings, rants, and so much more.\n",
        "\n",
        "You are the only one to whom I can tell even my darkest secrets and just be myself. Whenever I feel sad, I know you are there to hold me and cheer me up. Love you forever, my baby.\n",
        "\n",
        "Your loving husband,"
      ],
      "metadata": {
        "id": "7n70rcvZLcuI"
      }
    },
    {
      "cell_type": "markdown",
      "source": [
        "# Girlfriend\n",
        "\n",
        "\n",
        "\n",
        "---\n",
        "\n"
      ],
      "metadata": {
        "id": "famLHop9KHCD"
      }
    },
    {
      "cell_type": "markdown",
      "source": [
        "The results will be used to fine-tune GPT-J Models."
      ],
      "metadata": {
        "id": "qSPzmyYKt4hf"
      }
    },
    {
      "cell_type": "markdown",
      "source": [
        "Reference Sites:\n",
        "\n",
        "https://relishbay.com/sweet-love-letters-for-girlfriend/\n",
        "\n",
        "https://happilylover.com/love-letters-for-girlfriend/"
      ],
      "metadata": {
        "id": "ZU8LThjEN_2c"
      }
    },
    {
      "cell_type": "markdown",
      "source": [
        "## First Iteration"
      ],
      "metadata": {
        "id": "V4CuVaBuSNEI"
      }
    },
    {
      "cell_type": "code",
      "source": [
        "import urllib\n",
        "from bs4 import BeautifulSoup\n",
        "import jsonlines\n",
        "import json\n",
        "import pandas as pd \n",
        "URL = \"https://relishbay.com/sweet-love-letters-for-girlfriend/\"\n",
        "raw = urllib.request.urlopen(URL).read()\n",
        "original = raw.decode('utf-8')\n",
        "replacement = original.replace('\\u201c', '\"').replace('\\u201d', '\"').replace('\\u2019', \"'\").replace('\\u2026', \",\")\n",
        "soup = BeautifulSoup(replacement) "
      ],
      "metadata": {
        "id": "tT5VeokcIlvy"
      },
      "execution_count": null,
      "outputs": []
    },
    {
      "cell_type": "code",
      "source": [
        "res = [p.get_text().strip() for p in soup.find_all('p')]"
      ],
      "metadata": {
        "id": "pDuguG4eIngC"
      },
      "execution_count": null,
      "outputs": []
    },
    {
      "cell_type": "code",
      "source": [
        "initial_result = []\n",
        "for i in range(len(res)):\n",
        "  if i == len(res):\n",
        "    break\n",
        "  elif res[i] == \"\":\n",
        "    print(res[i])\n",
        "    res.remove(res[i])\n",
        "  elif res[i][0].isnumeric():\n",
        "    initial_result.append(res[i])"
      ],
      "metadata": {
        "id": "nfTM9W4MP0UY"
      },
      "execution_count": null,
      "outputs": []
    },
    {
      "cell_type": "code",
      "source": [
        "dataset_girlfriend = []\n",
        "for string in initial_result:\n",
        "  for i in range(len(string)):\n",
        "    if \"\\n\" in string[i]:\n",
        "      dataset_girlfriend.append(string[i+1:])\n",
        "      break"
      ],
      "metadata": {
        "id": "PxDxJKknMJ-9"
      },
      "execution_count": null,
      "outputs": []
    },
    {
      "cell_type": "markdown",
      "source": [
        "## Second Iteration"
      ],
      "metadata": {
        "id": "ZGKnz-KHRq3-"
      }
    },
    {
      "cell_type": "code",
      "source": [
        "import urllib\n",
        "from bs4 import BeautifulSoup\n",
        "import jsonlines\n",
        "import json\n",
        "import pandas as pd \n",
        "URL = \"https://happilylover.com/love-letters-for-girlfriend/\"\n",
        "raw = urllib.request.urlopen(URL).read()\n",
        "original = raw.decode('utf-8')\n",
        "replacement = original.replace('\\u201c', '\"').replace('\\u201d', '\"').replace('\\u2019', \"'\").replace('\\u2026', \",\")\n",
        "soup = BeautifulSoup(replacement) "
      ],
      "metadata": {
        "id": "kO06p5wcRuo8"
      },
      "execution_count": null,
      "outputs": []
    },
    {
      "cell_type": "code",
      "source": [
        "res = [p.get_text().strip() for p in soup.find_all('p')]"
      ],
      "metadata": {
        "id": "qg4mLztzR0r5"
      },
      "execution_count": null,
      "outputs": []
    },
    {
      "cell_type": "code",
      "source": [
        "initial_result = res[1:]"
      ],
      "metadata": {
        "id": "jjG0J3YNR67t"
      },
      "execution_count": null,
      "outputs": []
    },
    {
      "cell_type": "code",
      "source": [
        "dataset_girlfriend = []\n",
        "for string in initial_result:\n",
        "  for i in range(len(string)):\n",
        "    if \",\" in string[i] and string[i+1] == \" \":\n",
        "      dataset_girlfriend.append(string)\n",
        "    elif \",\" in string[i]:\n",
        "      dataset_girlfriend.append(string[i+1:])\n",
        "      break"
      ],
      "metadata": {
        "id": "E6i7BW5DSSPE"
      },
      "execution_count": null,
      "outputs": []
    },
    {
      "cell_type": "markdown",
      "source": [
        "Prompt Sample:\n",
        "\n",
        "input: girlfriend\n",
        "\n",
        "output: I wish to appreciate you for always being there for me. The joy in my heart knows no bound because you give me only the best of love and care. Thank you for the attention that was never divided, and the smile that takes my breath away. You are everything my world needs right now. I fell in love with you, and it has been the best experience ever.\n"
      ],
      "metadata": {
        "id": "ZceCOMUfeNPV"
      }
    },
    {
      "cell_type": "markdown",
      "source": [
        "# Final"
      ],
      "metadata": {
        "id": "t9flX4sISFzD"
      }
    },
    {
      "cell_type": "code",
      "source": [
        "# Updating the wife_dataset file with new wife love letter sample(s)\n",
        "map_dict = {'<dataset>':dataset_girlfriend}\n",
        "txt = \"dataset = <dataset>\"\n",
        "with open('love_letter_dataset.py', 'w') as f:\n",
        "    for k,v in map_dict.items():\n",
        "      txt = txt.replace(k,str(v))\n",
        "    f.write(txt)"
      ],
      "metadata": {
        "id": "ze1UjUU3N00_"
      },
      "execution_count": null,
      "outputs": []
    },
    {
      "cell_type": "code",
      "source": [
        "outer_list = []\n",
        "for i in range(len(dataset_girlfriend)): # change dataset name\n",
        "    inner_dict = {}\n",
        "    inner_dict[\"input\"] =  \"love letter\" # change variable name\n",
        "    inner_dict[\"output\"] =  dataset_girlfriend[i] # change dataset name\n",
        "    outer_list.append(inner_dict)\n",
        "\n",
        "# removing duplicates\n",
        "outer_list = [i for n, i in enumerate(outer_list) if i not in outer_list[:n]] "
      ],
      "metadata": {
        "id": "NWqtA71LMUMy"
      },
      "execution_count": null,
      "outputs": []
    },
    {
      "cell_type": "code",
      "source": [
        "# saving to json format\n",
        "with open('love_letter_dataset.json', 'w') as json_output:\n",
        "  json.dump(outer_list, json_output)"
      ],
      "metadata": {
        "id": "3_WbQT1pr5dV"
      },
      "execution_count": null,
      "outputs": []
    },
    {
      "cell_type": "code",
      "source": [
        "# saving to jsonl format\n",
        "with open('love_letter_dataset.jsonl', 'w') as jsonl_output:\n",
        "    for entry in outer_list:\n",
        "        json.dump(entry, jsonl_output)\n",
        "\n",
        "        jsonl_output.write('\\n')"
      ],
      "metadata": {
        "id": "DJb-IzVJM5Vz"
      },
      "execution_count": null,
      "outputs": []
    }
  ],
  "metadata": {
    "colab": {
      "provenance": [],
      "collapsed_sections": [
        "Ldhqizc0ii_u",
        "LHVmY_huigwq",
        "9qC10pGPLpf5",
        "yNdCPx7Uieh_",
        "xp1C3uFeioa7",
        "2HGtykx7Lush",
        "famLHop9KHCD",
        "V4CuVaBuSNEI",
        "ZGKnz-KHRq3-",
        "t9flX4sISFzD"
      ],
      "include_colab_link": true
    },
    "kernelspec": {
      "display_name": "Python 3",
      "language": "python",
      "name": "python3"
    },
    "language_info": {
      "codemirror_mode": {
        "name": "ipython",
        "version": 3
      },
      "file_extension": ".py",
      "mimetype": "text/x-python",
      "name": "python",
      "nbconvert_exporter": "python",
      "pygments_lexer": "ipython3",
      "version": "3.7.6"
    },
    "gpuClass": "standard"
  },
  "nbformat": 4,
  "nbformat_minor": 0
}